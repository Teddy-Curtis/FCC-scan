{
 "cells": [
  {
   "cell_type": "code",
   "execution_count": 2,
   "metadata": {},
   "outputs": [
    {
     "data": {
      "text/plain": [
       "[[80, 100],\n",
       " [80, 100],\n",
       " [80, 100],\n",
       " [80, 100],\n",
       " [80, 100],\n",
       " [80, 100],\n",
       " [80, 100],\n",
       " [80, 100],\n",
       " [80, 100],\n",
       " [80, 100],\n",
       " [80, 100],\n",
       " [80, 100],\n",
       " [80, 100],\n",
       " [80, 100],\n",
       " [80, 100],\n",
       " [80, 100],\n",
       " [80, 100],\n",
       " [80, 100],\n",
       " [80, 100],\n",
       " [80, 100],\n",
       " [80, 100],\n",
       " [80, 100],\n",
       " [80, 100],\n",
       " [80, 100],\n",
       " [80, 100],\n",
       " [80, 100],\n",
       " [80, 100],\n",
       " [80, 100],\n",
       " [80, 100],\n",
       " [80, 100],\n",
       " [80, 100],\n",
       " [80, 100],\n",
       " [80, 100],\n",
       " [80, 100],\n",
       " [80, 100],\n",
       " [80, 100],\n",
       " [80, 100],\n",
       " [80, 100],\n",
       " [80, 100],\n",
       " [80, 100],\n",
       " [80, 100],\n",
       " [80, 100],\n",
       " [80, 100],\n",
       " [80, 100],\n",
       " [80, 100],\n",
       " [80, 100],\n",
       " [80, 100],\n",
       " [80, 100],\n",
       " [80, 100],\n",
       " [80, 100],\n",
       " [80, 100],\n",
       " [80, 100],\n",
       " [80, 100],\n",
       " [80, 100],\n",
       " [80, 100],\n",
       " [80, 100],\n",
       " [80, 100],\n",
       " [80, 100],\n",
       " [80, 100],\n",
       " [80, 100],\n",
       " [80, 100],\n",
       " [80, 100],\n",
       " [80, 100],\n",
       " [80, 100],\n",
       " [80, 100],\n",
       " [80, 100],\n",
       " [80, 100],\n",
       " [80, 100],\n",
       " [80, 100],\n",
       " [80, 100],\n",
       " [80, 100],\n",
       " [80, 100],\n",
       " [80, 100],\n",
       " [80, 100],\n",
       " [80, 100],\n",
       " [80, 100],\n",
       " [80, 100],\n",
       " [80, 100],\n",
       " [80, 100],\n",
       " [80, 100],\n",
       " [80, 100],\n",
       " [80, 100],\n",
       " [80, 100],\n",
       " [80, 100],\n",
       " [80, 100],\n",
       " [80, 100],\n",
       " [80, 100],\n",
       " [80, 100],\n",
       " [80, 100],\n",
       " [80, 100],\n",
       " [80, 100],\n",
       " [80, 100],\n",
       " [80, 100],\n",
       " [80, 100],\n",
       " [80, 100],\n",
       " [80, 100],\n",
       " [80, 100],\n",
       " [80, 100],\n",
       " [80, 100],\n",
       " [80, 100]]"
      ]
     },
     "execution_count": 2,
     "metadata": {},
     "output_type": "execute_result"
    }
   ],
   "source": [
    "import numpy as n\n",
    "# Make repeating numpy array of string \n",
    "[[80, 100]] * 100\n",
    "\n",
    "[[80, 100] for _ in range(100)]"
   ]
  },
  {
   "cell_type": "code",
   "execution_count": 3,
   "metadata": {},
   "outputs": [
    {
     "name": "stdout",
     "output_type": "stream",
     "text": [
      "18.6 µs ± 18.6 ns per loop (mean ± std. dev. of 7 runs, 100,000 loops each)\n"
     ]
    }
   ],
   "source": [
    "%%timeit\n",
    "\n",
    "[[80, 100]] * 10000"
   ]
  },
  {
   "cell_type": "code",
   "execution_count": 4,
   "metadata": {},
   "outputs": [
    {
     "name": "stdout",
     "output_type": "stream",
     "text": [
      "702 µs ± 9.59 µs per loop (mean ± std. dev. of 7 runs, 1,000 loops each)\n"
     ]
    }
   ],
   "source": [
    "%%timeit\n",
    "\n",
    "[[80, 100] for _ in range(10000)]"
   ]
  },
  {
   "cell_type": "code",
   "execution_count": 8,
   "metadata": {},
   "outputs": [
    {
     "data": {
      "text/plain": [
       "array([0, 1, 2, 1, 4, 5])"
      ]
     },
     "execution_count": 8,
     "metadata": {},
     "output_type": "execute_result"
    }
   ],
   "source": [
    "import numpy as np\n",
    "arr = np.array([0, 1, 2, 3, 4, 5])\n",
    "\n",
    "np.where(arr == 3, 1, arr)"
   ]
  }
 ],
 "metadata": {
  "kernelspec": {
   "display_name": "Python 3",
   "language": "python",
   "name": "python3"
  },
  "language_info": {
   "codemirror_mode": {
    "name": "ipython",
    "version": 3
   },
   "file_extension": ".py",
   "mimetype": "text/x-python",
   "name": "python",
   "nbconvert_exporter": "python",
   "pygments_lexer": "ipython3",
   "version": "3.9.19"
  }
 },
 "nbformat": 4,
 "nbformat_minor": 2
}
