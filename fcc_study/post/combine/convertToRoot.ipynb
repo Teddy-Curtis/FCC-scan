{
 "cells": [
  {
   "cell_type": "code",
   "execution_count": 1,
   "metadata": {},
   "outputs": [],
   "source": [
    "import json\n",
    "import uproot \n",
    "import numpy as np\n",
    "import boost_histogram as bh\n",
    "import glob\n",
    "import copy\n",
    "from tqdm import tqdm"
   ]
  },
  {
   "cell_type": "code",
   "execution_count": 3,
   "metadata": {},
   "outputs": [],
   "source": [
    "output_direc = \"/vols/cms/emc21/FCC/FCC-Study/runs/e365_full_run_fixedLumis/run3/combine_grid_space_2.5/combine\""
   ]
  },
  {
   "cell_type": "code",
   "execution_count": 4,
   "metadata": {},
   "outputs": [],
   "source": [
    "background_files = glob.glob(f\"{output_direc}/mH*_mA*/backgrounds.json\")\n"
   ]
  },
  {
   "cell_type": "code",
   "execution_count": 7,
   "metadata": {},
   "outputs": [],
   "source": [
    "# bkg_proc_groups = {\n",
    "#     \"ZZ\" : ['p8_ee_ZZ_ecm240'],\n",
    "#     \"tautau\" : ['wzp6_ee_tautau_ecm240'],\n",
    "#     \"WW\" : ['p8_ee_WW_ecm240'],\n",
    "#     \"ee\" : ['wzp6_ee_ee_Mee_30_150_ecm240'],\n",
    "#     \"mumu\" : ['wzp6_ee_mumu_ecm240'],\n",
    "#     \"Higgs_X\" : ['wzp6_ee_eeH_ecm240', 'wzp6_ee_mumuH_ecm240', \n",
    "#                     'wzp6_ee_nunuH_ecm240', 'wzp6_ee_tautauH_ecm240']\n",
    "# }\n",
    "bkg_proc_groups = {\n",
    "    \"ZZ\" : ['p8_ee_ZZ_ecm365'],\n",
    "    \"tautau\" : ['wzp6_ee_tautau_ecm365'],\n",
    "    \"WW\" : ['p8_ee_WW_ecm365'],\n",
    "    \"ee\" : ['wzp6_ee_ee_Mee_30_150_ecm365'],\n",
    "    \"mumu\" : ['wzp6_ee_mumu_ecm365'],\n",
    "    \"Higgs_X\" : ['wzp6_ee_eeH_ecm365', 'wzp6_ee_mumuH_ecm365', \n",
    "                    'wzp6_ee_nunuH_ecm365', 'wzp6_ee_tautauH_ecm365']\n",
    "}\n",
    "\n",
    "def getGroup(proc):\n",
    "    for group, procs in bkg_proc_groups.items():\n",
    "        if proc in procs:\n",
    "            return group\n",
    "    raise ValueError(f\"Process {proc} not found in any group\")\n",
    "\n",
    "\n",
    "def makeEmptyHistogramDict():\n",
    "    # This just makes a histogram with empty bins for each process\n",
    "    bins = np.linspace(0.9, 1, 25)\n",
    "    hist = np.zeros(len(bins)-1)\n",
    "\n",
    "    return {proc : [copy.deepcopy(hist), copy.deepcopy(hist)] for proc in bkg_proc_groups.keys()}\n",
    "\n"
   ]
  },
  {
   "cell_type": "code",
   "execution_count": 8,
   "metadata": {},
   "outputs": [
    {
     "name": "stderr",
     "output_type": "stream",
     "text": [
      "  0%|          | 7/1971 [00:00<01:47, 18.29it/s]"
     ]
    },
    {
     "name": "stderr",
     "output_type": "stream",
     "text": [
      "100%|██████████| 1971/1971 [01:43<00:00, 18.98it/s]\n"
     ]
    }
   ],
   "source": [
    "bins = np.linspace(0.9, 1, 25)\n",
    "\n",
    "\n",
    "for file in tqdm(sorted(background_files)):\n",
    "    with open(file) as f:\n",
    "        hists_dict = json.load(f)\n",
    "\n",
    "    hists_dict.keys()\n",
    "\n",
    "    # I want to make a dictionary of hists, with the correct samples combined\n",
    "    # and with the correct names \n",
    "    root_hist_dict = {\n",
    "        \"Electron\" : makeEmptyHistogramDict(),\n",
    "        \"Muon\" : makeEmptyHistogramDict()\n",
    "    }\n",
    "\n",
    "    for proc, hists in hists_dict.items():\n",
    "        proc_name, process = proc.split(\";\")\n",
    "        hist, sumw2 = hists\n",
    "\n",
    "        group = getGroup(proc_name)\n",
    "\n",
    "        root_hist_dict[process][group][0] += np.array(hist)\n",
    "        root_hist_dict[process][group][1] += np.array(sumw2)\n",
    "\n",
    "    # Also add all of the histograms together, to make data_obs\n",
    "    for process in ['Electron', 'Muon']:\n",
    "        root_hist_dict[process]['data_obs'] = [np.zeros(len(hist)), np.zeros(len(hist))]\n",
    "        for group, hists in root_hist_dict[process].items():\n",
    "            if group == \"data_obs\":\n",
    "                continue\n",
    "            root_hist_dict[process]['data_obs'][0] += hists[0]\n",
    "            root_hist_dict[process]['data_obs'][1] += hists[1]\n",
    "\n",
    "    # root_hist_dict['Electron']['data_obs'] = [np.zeros(len(hist)), np.zeros(len(hist))]\n",
    "    # root_hist_dict['Muon']['data_obs'] = [np.zeros(len(hist)), np.zeros(len(hist))]\n",
    "    # for group, hists in root_hist_dict.items():\n",
    "    #     if group == \"data_obs\":\n",
    "    #         continue\n",
    "    #     for process, hist in hists.items():\n",
    "    #         root_hist_dict[group]['data_obs'][0] += hist[0]\n",
    "    #         root_hist_dict[group]['data_obs'][1] += hist[1]\n",
    "    # data_obs = [np.zeros(len(hist)), np.zeros(len(hist))]\n",
    "    # for group, hists in root_hist_dict.items():\n",
    "    #     data_obs[0] += hists[0]\n",
    "    #     data_obs[1] += hists[1]\n",
    "    \n",
    "    # root_hist_dict[\"data_obs\"] = data_obs\n",
    "\n",
    "    #print(root_hist_dict)\n",
    "\n",
    "    \n",
    "    mass_point_loc = \"/\".join(file.split(\"/\")[:-1])\n",
    "    # Now that I have the histograms, I want to save them to a root file\n",
    "    with uproot.recreate(f\"{mass_point_loc}/backgrounds.root\") as f:\n",
    "        for process, hist_dict in root_hist_dict.items():\n",
    "            for group, hists in hist_dict.items():\n",
    "                hist, sumw2 = hists\n",
    "\n",
    "                # If hist is all zeros, then just add a tiny value \n",
    "                if np.all(hist == 0):\n",
    "                    hist += 1e-7\n",
    "\n",
    "                root_hist = bh.Histogram(bh.axis.Variable(bins), \n",
    "                                        storage=bh.storage.Weight())\n",
    "                root_hist[...] = np.stack([hist, sumw2], axis=-1)\n",
    "\n",
    "                f[f\"{group}_{process}\"] = root_hist\n",
    "\n"
   ]
  },
  {
   "cell_type": "code",
   "execution_count": 9,
   "metadata": {},
   "outputs": [
    {
     "data": {
      "text/plain": [
       "0"
      ]
     },
     "execution_count": 9,
     "metadata": {},
     "output_type": "execute_result"
    }
   ],
   "source": [
    "10 % 5"
   ]
  },
  {
   "cell_type": "code",
   "execution_count": 18,
   "metadata": {},
   "outputs": [],
   "source": [
    "import awkward as ak\n",
    "import pickle\n",
    "\n",
    "evs = ak.from_parquet(\"/vols/cms/emc21/FCC/FCC-Study/runs/e240_full_run/run25/data/test/awkward/mH50_mA110.parquet\")\n",
    "\n",
    "scaler = pickle.load(open(\"/vols/cms/emc21/FCC/FCC-Study/runs/e240_full_run/run25/scaler.pkl\", \"rb\"))"
   ]
  },
  {
   "cell_type": "code",
   "execution_count": 22,
   "metadata": {},
   "outputs": [
    {
     "data": {
      "text/plain": [
       "array([(19.668781  , 17.123974 ,   4.7956343, 17.782816, 0.67064893, 26.515835,  0.269678  , 212.74223, 16.74917  ,  0.5454145, 19.30308 , -1.,  5.383241 , -0.8025567 ,  7.2127566,  1., -1., -0.0902985 ,  0.6310662 ,  0.6310662 , 2., 17.782818, 17.123974 , -0.2765165 , -0.77199376, 2.0000000e+00, -1.7285675e-08),\n",
       "       (33.26478   , 36.567467 ,  -3.15905  , 36.703667, 0.7409661 , 49.53488 , -0.0860691 , 186.89516, 26.739408 ,  0.3524456, 28.417427, -1., 16.811598 , -0.70125806, 21.117456 ,  1., -1.,  0.37767473,  0.68878454, -0.68878454, 1., 36.703667, 36.567467 ,  0.08628252,  1.3059946 , 1.2595877e-08,  2.0000000e+00),\n",
       "       (41.854584  , 29.414341 ,  47.43231  , 55.81243 , 0.8000326 , 69.762695,  0.849852  , 160.8282 , 38.957924 ,  0.8013589, 52.150753,  1., 12.136463 ,  0.9173938 , 17.611938 , -1., -1., -0.8458025 ,  0.05136126,  0.05136126, 2., 56.96219 , 29.81555  , -1.2636619 ,  1.3813205 , 1.2595877e-08,  2.0000000e+00),\n",
       "       ...,\n",
       "       ( 0.33173603,  7.9121943, -12.105542 , 14.461914, 0.999737  , 14.465718, -0.8370636 , 225.07013,  4.028453 , -1.2234395,  7.439441,  1.,  3.8872192, -1.1977932 ,  7.026279 , -1., -1.,  0.9982421 ,  0.30621824, -0.30621827, 1., 14.461914,  7.9121943,  1.2112818 ,  2.5548134 , 2.0000000e+00, -1.7285675e-08),\n",
       "       ( 0.3459229 , 11.127135 ,  13.026471 , 17.131903, 0.9997962 , 17.135395,  0.7603634 , 222.20515,  7.6717157,  1.0138735, 11.9643  ,  1.,  3.457157 ,  0.95862633,  5.1710963, -1., -1.,  0.99927074, -0.7613741 , -0.76137406, 1., 17.131903, 11.127134 , -0.997076  , -1.7634232 , 1.2595877e-08,  2.0000000e+00),\n",
       "       ( 0.45981067,  5.212064 , -30.119755 , 30.567389, 0.9998869 , 30.570847, -0.98535585, 207.1864 ,  3.803264 , -2.4869144, 23.023598,  1.,  1.4199997, -2.3547037 ,  7.5472503, -1., -1.,  0.98917854,  0.5952999 , -0.5952999 , 1., 30.567387,  5.212064 ,  2.454756  ,  0.0517746 , 1.2595877e-08,  2.0000000e+00)],\n",
       "      dtype=[('Zcand_m', '<f4'), ('Zcand_pt', '<f4'), ('Zcand_pz', '<f4'), ('Zcand_p', '<f4'), ('Zcand_povere', '<f4'), ('Zcand_e', '<f4'), ('Zcand_costheta', '<f4'), ('Zcand_recoil_m', '<f4'), ('lep1_pt', '<f4'), ('lep1_eta', '<f4'), ('lep1_e', '<f4'), ('lep1_charge', '<f4'), ('lep2_pt', '<f4'), ('lep2_eta', '<f4'), ('lep2_e', '<f4'), ('lep2_charge', '<f4'), ('lep_chargeprod', '<f4'), ('cosDphiLep', '<f4'), ('cosThetaStar', '<f4'), ('cosThetaR', '<f4'), ('n_jets', '<f4'), ('MET_e', '<f4'), ('MET_pt', '<f4'), ('MET_eta', '<f4'), ('MET_phi', '<f4'), ('n_muons', '<f4'), ('n_electrons', '<f4')])"
      ]
     },
     "execution_count": 22,
     "metadata": {},
     "output_type": "execute_result"
    }
   ],
   "source": [
    "branches = [\n",
    "    \"Zcand_m\",\n",
    "    \"Zcand_pt\",\n",
    "    \"Zcand_pz\",\n",
    "    \"Zcand_p\",\n",
    "    \"Zcand_povere\",\n",
    "    \"Zcand_e\",\n",
    "    \"Zcand_costheta\",\n",
    "    \"Zcand_recoil_m\",\n",
    "    \"lep1_pt\",\n",
    "    \"lep1_eta\",\n",
    "    \"lep1_e\",\n",
    "    \"lep1_charge\",\n",
    "    \"lep2_pt\",\n",
    "    \"lep2_eta\",\n",
    "    \"lep2_e\",\n",
    "    \"lep2_charge\",\n",
    "    \"lep_chargeprod\",\n",
    "    \"cosDphiLep\",\n",
    "    \"cosThetaStar\",\n",
    "    \"cosThetaR\",\n",
    "    \"n_jets\",\n",
    "    \"MET_e\",\n",
    "    \"MET_pt\",\n",
    "    \"MET_eta\",\n",
    "    \"MET_phi\",\n",
    "    \"n_muons\",\n",
    "    \"n_electrons\"\n",
    "]\n",
    "\n",
    "features = evs[branches]\n",
    "ak.to_numpy(features)"
   ]
  },
  {
   "cell_type": "code",
   "execution_count": 30,
   "metadata": {},
   "outputs": [
    {
     "name": "stdout",
     "output_type": "stream",
     "text": [
      "Efficiency for 1.2595877230126007e-08 muons: 0.49335116385975175\n",
      "Efficiency for 1.0 muons: 1.6716118517280287e-05\n",
      "Efficiency for 2.0 muons: 0.506632120021731\n"
     ]
    }
   ],
   "source": [
    "for n_mu in np.unique(evs.n_muons):\n",
    "    cut = evs.n_muons == n_mu\n",
    "    eff = ak.sum(cut) / ak.count(cut)\n",
    "\n",
    "    print(f\"Efficiency for {n_mu} muons: {eff}\")"
   ]
  },
  {
   "cell_type": "code",
   "execution_count": 28,
   "metadata": {},
   "outputs": [
    {
     "data": {
      "text/html": [
       "<pre>[1.26e-08,\n",
       " 1,\n",
       " 2]\n",
       "-----------------\n",
       "type: 3 * float32</pre>"
      ],
      "text/plain": [
       "<Array [1.26e-08, 1, 2] type='3 * float32'>"
      ]
     },
     "execution_count": 28,
     "metadata": {},
     "output_type": "execute_result"
    }
   ],
   "source": [
    "np.unique(evs.n_muons)"
   ]
  },
  {
   "cell_type": "code",
   "execution_count": 29,
   "metadata": {},
   "outputs": [
    {
     "name": "stdout",
     "output_type": "stream",
     "text": [
      "p8_ee_WW_ecm240 WW\n",
      "p8_ee_ZZ_ecm240 ZZ\n",
      "wzp6_ee_eeH_ecm240 Higgs_X\n",
      "wzp6_ee_ee_Mee_30_150_ecm240 ee\n",
      "wzp6_ee_mumuH_ecm240 Higgs_X\n",
      "wzp6_ee_mumu_ecm240 mumu\n",
      "wzp6_ee_nunuH_ecm240 Higgs_X\n",
      "wzp6_ee_tautauH_ecm240 Higgs_X\n",
      "wzp6_ee_tautau_ecm240 tautau\n"
     ]
    }
   ],
   "source": [
    "bins = np.linspace(0.9, 1, 25)\n",
    "\n",
    "file = background_files[0]\n",
    "\n",
    "with open(file) as f:\n",
    "    hists_dict = json.load(f)\n",
    "\n",
    "hists_dict.keys()\n",
    "\n",
    "# I want to make a dictionary of hists, with the correct samples combined\n",
    "# and with the correct names \n",
    "root_hist_dict = makeEmptyHistogramDict()\n",
    "\n",
    "for proc, hists in hists_dict.items():\n",
    "    hist, sumw2 = hists\n",
    "\n",
    "    group = getGroup(proc)\n",
    "    print(proc, group)\n",
    "\n",
    "    root_hist_dict[group][0] += np.array(hist)\n",
    "    root_hist_dict[group][1] += np.array(sumw2)\n",
    "\n",
    "\n",
    "mass_point_loc = \"/\".join(file.split(\"/\")[:-1])\n",
    "# Now that I have the histograms, I want to save them to a root file\n",
    "with uproot.recreate(f\"{mass_point_loc}/backgrounds.root\") as f:\n",
    "    for group, hist in root_hist_dict.items():\n",
    "        hist, sumw2 = hist\n",
    "\n",
    "        # If hist is all zeros, then just add a tiny value \n",
    "        if np.all(hist == 0):\n",
    "            hist += 1e-7\n",
    "\n",
    "        root_hist = bh.Histogram(bh.axis.Variable(bins), \n",
    "                                storage=bh.storage.Weight())\n",
    "        root_hist[...] = np.stack([hist, sumw2], axis=-1)\n",
    "\n",
    "        f[group] = root_hist\n"
   ]
  },
  {
   "cell_type": "code",
   "execution_count": 24,
   "metadata": {},
   "outputs": [
    {
     "data": {
      "text/plain": [
       "'/vols/cms/emc21/FCC/FCC-Study/runs/e240_full_run/run25/combine_grid_space_2.5/combine/mH90.0_mA120.0'"
      ]
     },
     "execution_count": 24,
     "metadata": {},
     "output_type": "execute_result"
    }
   ],
   "source": [
    "file\n",
    "mass_point_loc = \"/\".join(file.split(\"/\")[:-1])\n",
    "mass_point_loc"
   ]
  },
  {
   "cell_type": "code",
   "execution_count": 22,
   "metadata": {},
   "outputs": [
    {
     "data": {
      "text/plain": [
       "{'ZZ': [array([ 25.265625,  38.328125,  33.984375,  28.734375,  31.359375,\n",
       "          25.25    ,  33.109375,  50.515625,  54.015625,  61.84375 ,\n",
       "          67.953125,  77.515625,  90.609375, 100.171875, 138.5     ,\n",
       "         163.75    , 185.5625  , 241.28125 , 331.03125 , 388.5     ,\n",
       "         442.515625, 601.046875, 593.21875 , 206.453125]),\n",
       "  array([ 21.96875 ,  33.359375,  29.546875,  25.015625,  27.265625,\n",
       "          22.      ,  28.78125 ,  43.96875 ,  46.96875 ,  53.8125  ,\n",
       "          59.09375 ,  67.46875 ,  78.78125 ,  87.15625 , 120.5     ,\n",
       "         142.46875 , 161.40625 , 209.921875, 287.96875 , 337.984375,\n",
       "         384.96875 , 522.890625, 516.078125, 179.59375 ])],\n",
       " 'tautau': [array([304.375 , 294.625 , 291.5   , 269.125 , 265.8125, 281.875 ,\n",
       "         246.625 , 256.3125, 278.6875, 272.1875, 166.5625, 163.4375,\n",
       "         102.4375,  44.875 ,  44.8125,  38.375 ,  22.5   ,   6.4375,\n",
       "          25.5625,   9.625 ,  19.1875,  12.8125,   6.375 ,   3.25  ]),\n",
       "  array([979.25, 948.75, 937.75, 866.25, 855.25, 907.  , 793.75, 824.75,\n",
       "         896.75, 876.  , 536.  , 526.  , 329.5 , 144.5 , 144.25, 123.5 ,\n",
       "          72.25,  20.5 ,  82.5 ,  31.  ,  62.  ,  41.25,  20.5 ,  10.5 ])],\n",
       " 'WW': [array([ 304.625,  287.   ,  338.   ,  351.625,  358.625,  425.125,\n",
       "          431.5  ,  505.5  ,  499.625,  536.125,  631.25 ,  766.   ,\n",
       "          865.875, 1011.875, 1240.125, 1422.625, 1708.   , 2288.75 ,\n",
       "         2881.5  , 3156.   , 3798.5  , 4356.5  , 4727.625, 1044.875]),\n",
       "  array([ 483.  ,  455.25,  535.5 ,  558.75,  569.  ,  673.5 ,  684.25,\n",
       "          802.75,  792.25,  850.25, 1001.25, 1215.  , 1373.25, 1605.25,\n",
       "         1967.5 , 2256.5 , 2708.75, 3630.25, 4570.75, 5006.  , 6024.75,\n",
       "         6910.25, 7499.  , 1658.  ])],\n",
       " 'ee': [array([14. , 17.5, 14. ,  7. , 10.5,  0. , 10.5,  7. , 17.5, 14. ,  7. ,\n",
       "         10.5, 17.5, 24.5,  7. ,  3.5, 14. , 17.5, 10.5,  3.5,  3.5,  7. ,\n",
       "         10.5,  0. ]),\n",
       "  array([49. , 61. , 49. , 24.5, 37. ,  0. , 36.5, 24.5, 61.5, 49. , 24.5,\n",
       "         36.5, 61.5, 85.5, 24.5, 12.5, 49. , 61. , 37. , 12. , 12.5, 24.5,\n",
       "         36.5,  0. ])],\n",
       " 'mumu': [array([188.8125, 156.75  , 195.9375, 231.5625, 242.25  , 242.25  ,\n",
       "         228.    , 242.25  , 299.25  , 334.875 , 299.25  , 384.75  ,\n",
       "         388.3125, 480.9375, 577.125 , 584.25  , 598.5   , 548.625 ,\n",
       "         726.75  , 559.3125, 334.875 , 231.5625, 142.5   ,  24.9375]),\n",
       "  array([ 674.09375,  559.625  ,  699.53125,  826.71875,  864.875  ,\n",
       "          864.875  ,  814.     ,  864.875  , 1068.375  , 1195.5625 ,\n",
       "         1068.375  , 1373.625  , 1386.34375, 1717.03125, 2060.4375 ,\n",
       "         2085.875  , 2136.75   , 1958.6875 , 2594.625  , 1996.84375,\n",
       "         1195.5625 ,  826.71875,  508.75   ,   89.03125])],\n",
       " 'Higgs + X': [array([ 2.85058594,  5.22607422,  5.70117188,  5.22607422,  6.17626953,\n",
       "          7.6015625 ,  9.02685547,  7.6015625 , 11.12980652,  9.97705078,\n",
       "          9.02685547, 12.48512268,  8.55175781, 19.20646667, 21.51197815,\n",
       "         20.42919922, 26.33317566, 30.13371277, 39.16056824, 41.33349609,\n",
       "         47.03466797, 58.16447449, 79.06877136, 25.65527344]),\n",
       "  array([ 1.35424805,  2.48278809,  2.70849609,  2.48278809,  2.9342041 ,\n",
       "          3.61132812,  4.28845215,  3.61132812,  5.23231125,  4.73986816,\n",
       "          4.28845215,  5.7657814 ,  4.06274414,  9.06934738, 10.05423355,\n",
       "          9.70544434, 12.4549675 , 14.26063156, 18.54908371, 19.63659668,\n",
       "         22.34509277, 27.5799675 , 37.52882004, 12.19482422])]}"
      ]
     },
     "execution_count": 22,
     "metadata": {},
     "output_type": "execute_result"
    }
   ],
   "source": [
    "root_hist_dict"
   ]
  }
 ],
 "metadata": {
  "kernelspec": {
   "display_name": "Python 3",
   "language": "python",
   "name": "python3"
  },
  "language_info": {
   "codemirror_mode": {
    "name": "ipython",
    "version": 3
   },
   "file_extension": ".py",
   "mimetype": "text/x-python",
   "name": "python",
   "nbconvert_exporter": "python",
   "pygments_lexer": "ipython3",
   "version": "3.9.19"
  }
 },
 "nbformat": 4,
 "nbformat_minor": 2
}
