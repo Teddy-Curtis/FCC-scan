{
 "cells": [
  {
   "cell_type": "code",
   "execution_count": 1,
   "metadata": {},
   "outputs": [],
   "source": [
    "\n",
    "import os\n",
    "import sys, glob\n",
    "import awkward as ak\n",
    "import numpy as np\n",
    "import torch\n",
    "import argparse\n",
    "from fcc_study.pNN.training.preprocessing_datasetClasses import (\n",
    "    CustomDataset,\n",
    "    getData,\n",
    ")\n",
    "import json\n",
    "import importlib\n",
    "import pickle\n",
    "from torch.utils.data import DataLoader\n",
    "from tqdm import tqdm\n",
    "import copy\n",
    "from importlib import import_module"
   ]
  },
  {
   "cell_type": "code",
   "execution_count": 2,
   "metadata": {},
   "outputs": [],
   "source": [
    "events = ak.from_parquet(\"/vols/cms/emc21/FCC/FCC-Study/runs/main_run/run7/data/test/awkward/mH85_mA125_h2h2ll.parquet\")\n",
    "\n",
    "branches = ['Zcand_m',\n",
    " 'Zcand_pt',\n",
    " 'Zcand_pz',\n",
    " 'Zcand_p',\n",
    " 'Zcand_povere',\n",
    " 'Zcand_e',\n",
    " 'Zcand_costheta',\n",
    " 'Zcand_recoil_m',\n",
    " 'lep1_pt',\n",
    " 'lep1_eta',\n",
    " 'lep1_e',\n",
    " 'lep1_charge',\n",
    " 'lep2_pt',\n",
    " 'lep2_eta',\n",
    " 'lep2_e',\n",
    " 'lep2_charge',\n",
    " 'lep_chargeprod',\n",
    " 'cosDphiLep',\n",
    " 'cosThetaStar',\n",
    " 'cosThetaR',\n",
    " 'n_jets',\n",
    " 'MET_e',\n",
    " 'MET_pt',\n",
    " 'MET_eta',\n",
    " 'MET_phi',\n",
    " 'n_photons',\n",
    " 'n_muons',\n",
    " 'n_electrons']\n",
    "\n",
    "import pickle\n",
    "with open('/vols/cms/emc21/FCC/FCC-Study/runs/main_run/run7/scaler.pkl', 'rb') as f:\n",
    "    scaler = pickle.load(f)\n",
    "\n",
    "with open('/vols/cms/emc21/FCC/FCC-Study/runs/main_run/run7/mass_scaler.pkl', 'rb') as f:\n",
    "    mass_scaler = pickle.load(f)"
   ]
  },
  {
   "cell_type": "code",
   "execution_count": 6,
   "metadata": {},
   "outputs": [
    {
     "name": "stdout",
     "output_type": "stream",
     "text": [
      "Zcand_m                   [11.6, 16.6, 13.1, 9.22, 36.4, 27.1, ..., 33.4, 19.5, 22.4, 19.7, 4.22, 14.9]\n",
      "Zcand_pt                  [27.7, 39.2, 6.73, 32.4, 28.5, 7.45, ..., 21.2, 31.9, 14.4, 44.2, 8.59, 23.3]\n",
      "Zcand_pz                  [21.2, 23.8, 24.1, -2.28, -12.2, 9.29, ..., 6.38, -8.41, 16.9, 10.5, 20, 21.2]\n",
      "Zcand_p                   [34.9, 45.9, 25, 32.5, 31, 11.9, 21.9, ..., 22.1, 33, 22.2, 45.4, 21.7, 31.5]\n",
      "Zcand_povere              [0.949, 0.94, 0.886, 0.962, 0.648, ..., 0.861, 0.704, 0.918, 0.982, 0.904]\n",
      "Zcand_e                   [36.7, 48.8, 28.3, 33.8, 47.8, 29.6, ..., 40.1, 38.3, 31.5, 49.5, 22.1, 34.8]\n",
      "Zcand_costheta            [0.608, 0.519, 0.963, -0.0701, -0.393, ..., -0.255, 0.761, 0.231, 0.919, 0.673]\n",
      "Zcand_recoil_m            [200, 186, 210, 204, 190, 210, 210, 204, ..., 216, 199, 199, 207, 185, 217, 203]\n",
      "lep1_pt                   [19.5, 35, 7.49, 22.4, 20.7, 15.7, 20.2, ..., 18.1, 32.7, 10.3, 27, 5.38, 13.5]\n",
      "lep1_eta                  [0.395, 0.375, 1.03, -0.0762, 0.429, ..., -0.18, -0.299, 0.335, 1.41, 0.375]\n",
      "lep1_e                    [21.1, 37.5, 11.8, 22.4, 22.7, 16.1, ..., 21.4, 33.2, 10.8, 28.5, 11.7, 14.4]\n",
      "lep1_charge               [-1, 1, 1, 1, -1, -1, -1, 1, 1, -1, -1, ..., 1, -1, -1, 1, 1, 1, 1, -1, 1, -1]\n",
      "lep2_pt                   [8.3, 4.52, 6.81, 11.3, 13.3, 12.3, ..., 5.85, 4.47, 5.45, 20.9, 4.16, 12.6]\n",
      "lep2_eta                  [1.25, 1.57, 1.53, -0.0503, -1.25, 0.443, ..., -0.53, 2.01, 0.061, 1.57, 1.06]\n",
      "lep2_e                    [15.7, 11.3, 16.4, 11.3, 25.2, 13.5, ..., 18.7, 5.11, 20.7, 21, 10.5, 20.4]\n",
      "lep2_charge               [1, -1, -1, -1, 1, 1, 1, -1, -1, 1, 1, ..., -1, 1, 1, -1, -1, -1, -1, 1, -1, 1]\n",
      "lep_chargeprod            [-1, -1, -1, -1, -1, -1, -1, -1, -1, ..., -1, -1, -1, -1, -1, -1, -1, -1, -1]\n",
      "cosDphiLep                [0.973, 0.927, -0.561, 0.833, 0.37, ..., -0.238, 0.634, 0.695, 0.616, 0.593]\n",
      "cosThetaStar              [-0.897, 0.669, 0.273, 0.0423, 0.848, ..., -0.143, 0.942, 0.33, 0.178, -0.612]\n",
      "cosThetaR                 [-0.897, 0.669, 0.273, -0.0423, -0.848, ..., 0.143, 0.942, 0.33, 0.178, -0.612]\n",
      "n_jets                    [1, 1, 1, 1, 2, 2, 2, 2, 1, 2, 1, 1, 2, ..., 1, 1, 1, 1, 2, 1, 2, 2, 2, 1, 1, 1]\n",
      "MET_e                     [35, 46, 25, 32.5, 31, 11.9, 21.9, ..., 22.1, 34.2, 22.7, 45.6, 22.9, 31.5]\n",
      "MET_pt                    [27.7, 39.3, 6.73, 32.4, 28.5, 7.49, ..., 21.2, 33.1, 17.5, 44.4, 9.11, 23.3]\n",
      "MET_eta                   [-0.708, -0.575, -1.99, 0.0702, 0.415, ..., -0.758, -0.235, -1.57, -0.816]\n",
      "MET_phi                   [-1.03, -2.42, 2.89, -2.29, 0.9, -1.56, ..., -0.291, -0.086, -2.5, -1.21, 1.09]\n",
      "n_photons                 [0, 0, 0, 0, 0, 0, 0, 0, 0, 0, 0, 0, 0, ..., 0, 0, 0, 0, 0, 0, 0, 0, 0, 0, 0, 0]\n",
      "Useless branch!\n",
      "n_muons                   [2.1e-08, 2, 2, 2.1e-08, 2, 2, 2.1e-08, ..., 2, 2.1e-08, 2, 2.1e-08, 2, 2.1e-08]\n",
      "n_electrons               [2, 1.14e-08, 1.14e-08, 2, 1.14e-08, 1.14e-08, ..., 2, 1.14e-08, 2, 1.14e-08, 2]\n"
     ]
    }
   ],
   "source": [
    "for branch in branches:\n",
    "    field = events[branch]\n",
    "    print(f\"{branch: <25}\", field)\n",
    "\n",
    "    if ak.all(field == field[0]):\n",
    "        print(f\"Useless branch!\")"
   ]
  },
  {
   "cell_type": "code",
   "execution_count": 3,
   "metadata": {},
   "outputs": [],
   "source": [
    "data_feats = events[branches]\n",
    "data_feats\n",
    "\n",
    "data_ms = events[['mH', 'mA']]\n",
    "\n",
    "data_ms\n",
    "\n",
    "data_w = np.ones(len(data_feats))\n",
    "data_Y = np.ones(len(data_feats))\n",
    "data_wscaled = np.ones(len(data_feats))"
   ]
  },
  {
   "cell_type": "code",
   "execution_count": 4,
   "metadata": {},
   "outputs": [],
   "source": [
    "def convertToNumpy(events: ak.Array, branches: list) -> np.array:\n",
    "    # if only 1 branch then don't do the view stuff below, as that returns\n",
    "    # garbage\n",
    "    if len(branches) == 1:\n",
    "        return ak.to_numpy(events[branches[0]])\n",
    "\n",
    "    numpy_data = (\n",
    "        ak.to_numpy(events[branches]).view(\"<f4\").reshape(-1, len(branches))\n",
    "    )\n",
    "    return numpy_data\n",
    "\n",
    "# data_feats = convertToNumpy(data_feats, branches)\n",
    "# data_ms = convertToNumpy(data_ms, ['mH', 'mA'])"
   ]
  },
  {
   "cell_type": "code",
   "execution_count": 5,
   "metadata": {},
   "outputs": [
    {
     "name": "stdout",
     "output_type": "stream",
     "text": [
      "Initialising CustomDataset\n"
     ]
    }
   ],
   "source": [
    "def applyScaler(evs, scaler, branches):\n",
    "    numpy_data = convertToNumpy(evs, branches)\n",
    "    trans_numpy_data = scaler.transform(numpy_data)\n",
    "    for i, br in enumerate(branches):\n",
    "        evs[br] = trans_numpy_data[:, i]\n",
    "\n",
    "    return evs\n",
    "\n",
    "\n",
    "# Scale the features\n",
    "events = applyScaler(events, scaler, branches)\n",
    "events = applyScaler(events, mass_scaler, ['mH', 'mA'])\n",
    "# data_feats = feat_scaler.transform(data_feats)\n",
    "# data_ms = mass_scaler.transform(data_ms)\n",
    "\n",
    "# Now put into a helper class\n",
    "data_dataset = CustomDataset(events, branches, scaler, mass_scaler)"
   ]
  },
  {
   "cell_type": "code",
   "execution_count": 6,
   "metadata": {},
   "outputs": [
    {
     "data": {
      "text/plain": [
       "<fcc_study.pNN.training.preprocessing_datasetClasses.CustomDataset at 0x7f99d0d32880>"
      ]
     },
     "execution_count": 6,
     "metadata": {},
     "output_type": "execute_result"
    }
   ],
   "source": [
    "data_dataset"
   ]
  }
 ],
 "metadata": {
  "kernelspec": {
   "display_name": "Python 3",
   "language": "python",
   "name": "python3"
  },
  "language_info": {
   "codemirror_mode": {
    "name": "ipython",
    "version": 3
   },
   "file_extension": ".py",
   "mimetype": "text/x-python",
   "name": "python",
   "nbconvert_exporter": "python",
   "pygments_lexer": "ipython3",
   "version": "3.9.19"
  }
 },
 "nbformat": 4,
 "nbformat_minor": 2
}
